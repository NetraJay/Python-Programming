{
 "cells": [
  {
   "cell_type": "markdown",
   "metadata": {},
   "source": [
    "#linear search algorithm"
   ]
  },
  {
   "cell_type": "code",
   "execution_count": 5,
   "metadata": {},
   "outputs": [
    {
     "name": "stdout",
     "output_type": "stream",
     "text": [
      "element is at index 4\n"
     ]
    }
   ],
   "source": [
    "def ls(arr,n,x):\n",
    "    for i in range (0,n):\n",
    "        if (arr[i]==x):\n",
    "            return i\n",
    "    return -1\n",
    "arr=[56,1,6,77,3,0,4,5]\n",
    "x=3\n",
    "n=len(arr)\n",
    "result=ls(arr,n,x)\n",
    "if(result==-1):\n",
    "    print(\"Hey element not found\")\n",
    "else:\n",
    "    print(\"element is at index\",result)"
   ]
  },
  {
   "cell_type": "markdown",
   "metadata": {},
   "source": [
    "linear serach vs binary search\n",
    "\n",
    "Binary Search:Binary search is also called half-interval search or binary chop. It's a search algorithm that finds the position of a target value by repeatedly dividing the search interval in half. It compares the target value to the middle element of the array. If they are an unequal half array to be searched then it is eliminated and the search continues on the remaining half until it is successful.\n",
    "\n",
    "Worst time complexity- O(log n) comparisons\n",
    "\n",
    "Application: The binary search tree and B-tree data structures are based on binary search.\n",
    "\n",
    "Linear Search: Also called sequential search that because It sequentially checks each element of the list for the target value until a match is found or until all the elements have been searched.\n",
    "\n",
    "Average and Worst Time Complexity- O(n) comparisons\n",
    "\n",
    "* Input data needs to be sorted in Binary Search and not in Linear Search\n",
    "* Binary search is better and quite faster than linear search, because after each iteration, the length of the array we are looking in gets cut in half.\n",
    "* Linear search uses sequential approach. But, binary search implements divide and conquer approach.\n",
    "* The best case time in linear search is for the first element that is O(1). And the other side O(1) is the middle element in binary search.\n",
    "* Linear search can be implemented in an array as well as in linked list, but binary search can't be implemented directly on linked list.\n",
    "* The difference between O(log(N)) and O(N) is extremely significant when N is large: for any practical problem it is crucial that we avoid O(N) searches. For example, suppose your array contains 2 billion (2 * 10**9) values. Linear search would involve about a billion comparisons; binary search would require only 32 comparisons!\n",
    "\n",
    "#binary search the iterative way"
   ]
  },
  {
   "cell_type": "code",
   "execution_count": 4,
   "metadata": {},
   "outputs": [
    {
     "name": "stdout",
     "output_type": "stream",
     "text": [
      "element is at index 3\n"
     ]
    }
   ],
   "source": [
    "def bs(arr,low,high,x):\n",
    "    while (high>=low):\n",
    "        mid=(low+(high-1))//2\n",
    "        if (arr[mid]>x):\n",
    "            high=mid-1\n",
    "        elif (arr[mid]<x):\n",
    "            low=mid+1\n",
    "        else:\n",
    "            return mid\n",
    "    return -1\n",
    "arr=[56,1,6,77,3,0,4,5]\n",
    "x=77\n",
    "low=0\n",
    "high=len(arr)\n",
    "result=bs(arr,low,high,x)\n",
    "if(result==-1):\n",
    "    print(\"Hey element not found\")\n",
    "else:\n",
    "    print(\"element is at index\",result)\n",
    "            "
   ]
  },
  {
   "cell_type": "markdown",
   "metadata": {},
   "source": [
    "iterative binary serach vs recursive binary search\n",
    "\n",
    "The numbers of comparisons for the recursive and iterative versions of Binary Search are the same.\n",
    "\n",
    "* Best case - O (1) comparisons\n",
    "\n",
    "In the best case, the item X is the middle in the array A. A constant number of comparisions (actually just 1) are required.\n",
    "\n",
    "* Worst case - O (log n) comparsions\n",
    "\n",
    "In the worst case, the item X does not exist in the array A at all. Through each recursion or iteration of Binary Search, the size of the admissible range is halved. This halving can be done ceiling(lg n ) times. Thus, ceiling(lg n ) comparisons are required.\n",
    "\n",
    "* Average case - O (log n) comparsions\n",
    "\n",
    "To find the average case, take the sum over all elements of the product of number of comparsions required to find each element and the probability of searching for that element. To simplify the analysis, assume that no item which is not in A will be searched for, and that the probabilities of searching for each element are uniform.\n",
    "\n",
    "* The space requirements for the recursive and iterative versions of binary search are different. Recursive May reach to log(n) space (because of the stack), in iterative BS it should be O(1) space complexity. Iterative Binary Search requires only a constant amount of space, while Recursive Binary Search requires space proportional to the number of comparisons to maintain the recursion stack.\n",
    "\n",
    "##binary search the recursive way"
   ]
  },
  {
   "cell_type": "code",
   "execution_count": 17,
   "metadata": {},
   "outputs": [
    {
     "name": "stdout",
     "output_type": "stream",
     "text": [
      "element is at index 0\n"
     ]
    }
   ],
   "source": [
    "def bs(arr,low,high,x):\n",
    "    if (high>=low):\n",
    "        mid=(low+(high-1))//2\n",
    "        if (arr[mid]==x):\n",
    "            return mid\n",
    "        elif (arr[mid]<x):\n",
    "            return bs(arr,mid+1,high,x)\n",
    "        else:\n",
    "            return bs(arr,low,mid-1,x)\n",
    "    else:\n",
    "        return -1\n",
    "    \n",
    "arr=[56,1,6,77,3,0,4,5]\n",
    "x=56\n",
    "result=bs(arr,0,len(arr),x)\n",
    "if(result==-1):\n",
    "    print(\"Hey element not found\")\n",
    "else:\n",
    "    print(\"element is at index\",result)"
   ]
  },
  {
   "cell_type": "markdown",
   "metadata": {},
   "source": [
    "#iterative vs recursive\n",
    "\n",
    "The concept of Recursion and Iteration is to execute a set of instructions repeatedly. The difference between them is that recursion is simply a method call in which the method being called is the same as the one making the call while iteration is when a loop is repeatedly executed until a certain condition is met. Under the hood, both recursion and iteration depends on a condition so as to know when to stop but recursion is simply a process, always applied to a function.\n",
    "\n",
    "* A conditional statement decides the termination of recursion while a control variable’s value decide the termination of the iteration statement (except in the case of a while loop).\n",
    "* Infinite recursion can lead to system crash whereas, infinite iteration consumes CPU cycles.\n",
    "* Recursion repeatedly invokes the mechanism, and consequently the overhead, of method calls. This can be expensive in both processor time and memory space while iteration doesn’t.\n",
    "* Recursion makes code smaller while iteration makes it longer.\n",
    "\n",
    "**Which is better?\n",
    "\n",
    "The fact is that recursion is rarely the most efficient approach to solving a problem, and iteration is almost always more efficient. This is because there is usually more overhead associated with making recursive calls due to the fact that the call stack is so heavily used during recursion.\n",
    "\n",
    "**When to use recursion?\n",
    "\n",
    "Recursion is made for solving problems that can be broken down into smaller, repetitive problems. It is especially good for working on things that have many possible branches and are too complex for an iterative approach. One good example of this would be searching through a file system"
   ]
  },
  {
   "cell_type": "code",
   "execution_count": null,
   "metadata": {},
   "outputs": [],
   "source": []
  }
 ],
 "metadata": {
  "kernelspec": {
   "display_name": "Python 3",
   "language": "python",
   "name": "python3"
  },
  "language_info": {
   "codemirror_mode": {
    "name": "ipython",
    "version": 3
   },
   "file_extension": ".py",
   "mimetype": "text/x-python",
   "name": "python",
   "nbconvert_exporter": "python",
   "pygments_lexer": "ipython3",
   "version": "3.7.4"
  }
 },
 "nbformat": 4,
 "nbformat_minor": 2
}
